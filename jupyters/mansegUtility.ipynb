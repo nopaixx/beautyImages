{
 "cells": [
  {
   "cell_type": "code",
   "execution_count": null,
   "metadata": {},
   "outputs": [],
   "source": [
    "import numpy as np\n",
    "import cv2 as cv2"
   ]
  },
  {
   "cell_type": "code",
   "execution_count": 20,
   "metadata": {},
   "outputs": [],
   "source": [
    "import cv2\n",
    "import numpy as np \n",
    "\n",
    "drawing=False # true if mouse is pressed\n",
    "mode=True # if True, draw rectangle. Press 'm' to toggle to curve\n",
    "\n",
    "# mouse callback function\n",
    "\n",
    "allpoints = []\n",
    "tmp_point = []\n",
    "\n",
    "def draw(event,former_x,former_y,flags,param):\n",
    "    global current_former_x,current_former_y,drawing, mode, init_x, init_y, tmp_point\n",
    "\n",
    "    if event==cv2.EVENT_LBUTTONDOWN:\n",
    "        drawing=True\n",
    "        current_former_x,current_former_y=former_x,former_y\n",
    "        init_x, init_y = former_x, former_y\n",
    "        tmp_point = []\n",
    "        tmp_point.append([init_x, init_y])\n",
    "\n",
    "    elif event==cv2.EVENT_MOUSEMOVE:\n",
    "        if drawing==True:\n",
    "            if mode==True:\n",
    "                cv2.line(im,(current_former_x,current_former_y),(former_x,former_y),(0,0,255),5)\n",
    "                tmp_point.append([former_x, former_y])\n",
    "                current_former_x = former_x\n",
    "                current_former_y = former_y\n",
    "                #print former_x,former_y\n",
    "    elif event==cv2.EVENT_LBUTTONUP:\n",
    "        drawing=False\n",
    "        if mode==True:\n",
    "            cv2.line(im,(current_former_x,current_former_y),(former_x,former_y),(0,0,255),5)\n",
    "\n",
    "            tmp_point.append([former_x, former_y])\n",
    "            \n",
    "            current_former_x = former_x\n",
    "            current_former_y = former_y\n",
    "            cv2.line(im,(current_former_x, current_former_y), (init_x, init_y),(0,0,255),5)\n",
    "\n",
    "            \n",
    "            tmp_point.append([init_x, init_y])\n",
    "            allpoints.append(tmp_point)\n",
    "\n",
    "    return former_x, former_y\n",
    "\n",
    "\n",
    "im = cv2.imread(\"sea.jpg\")\n",
    "cv2.namedWindow(\"image\", cv2.WINDOW_NORMAL)\n",
    "cv2.setMouseCallback('image',draw)\n",
    "while(1):\n",
    "    cv2.imshow('image',im)    \n",
    "    cv2.resizeWindow('image', 1200,1200)\n",
    "    k=cv2.waitKey(1)&0xFF    \n",
    "    if k==27:\n",
    "        break\n",
    "    elif k==ord('z'):\n",
    "        alllines = []\n",
    "        im = cv2.imread(\"sea.jpg\")\n",
    "        \n",
    "\n",
    "cv2.destroyAllWindows()"
   ]
  },
  {
   "cell_type": "code",
   "execution_count": 15,
   "metadata": {},
   "outputs": [
    {
     "data": {
      "text/plain": [
       "3"
      ]
     },
     "execution_count": 15,
     "metadata": {},
     "output_type": "execute_result"
    }
   ],
   "source": []
  },
  {
   "cell_type": "code",
   "execution_count": null,
   "metadata": {},
   "outputs": [],
   "source": []
  },
  {
   "cell_type": "code",
   "execution_count": 21,
   "metadata": {},
   "outputs": [],
   "source": [
    "import numpy as np\n",
    "import cv2\n",
    "\n",
    "\n",
    "img = np.zeros( (im.shape[0],im.shape[1],3) ) # create a single channel 200x200 pixel black image\n",
    "for points in allpoints:\n",
    "    contours = np.array(points)\n",
    "    cv2.fillPoly(img, pts =[contours], color=(255,255,255))\n",
    "\n",
    "\n",
    "cv2.namedWindow(\"im\", cv2.WINDOW_NORMAL)\n",
    "\n",
    "while(1):\n",
    "    cv2.imshow(\"im\", img)\n",
    "    cv2.resizeWindow('im', 1200,1200)\n",
    "    k=cv2.waitKey(1)&0xFF    \n",
    "    if k==27:\n",
    "        break\n",
    "\n",
    "        \n",
    "cv2.waitKey()\n",
    "cv2.destroyAllWindows()"
   ]
  },
  {
   "cell_type": "code",
   "execution_count": null,
   "metadata": {},
   "outputs": [],
   "source": []
  },
  {
   "cell_type": "code",
   "execution_count": null,
   "metadata": {},
   "outputs": [],
   "source": []
  },
  {
   "cell_type": "code",
   "execution_count": null,
   "metadata": {},
   "outputs": [],
   "source": []
  },
  {
   "cell_type": "code",
   "execution_count": null,
   "metadata": {},
   "outputs": [],
   "source": []
  }
 ],
 "metadata": {
  "kernelspec": {
   "display_name": "Python 3",
   "language": "python",
   "name": "python3"
  },
  "language_info": {
   "codemirror_mode": {
    "name": "ipython",
    "version": 3
   },
   "file_extension": ".py",
   "mimetype": "text/x-python",
   "name": "python",
   "nbconvert_exporter": "python",
   "pygments_lexer": "ipython3",
   "version": "3.7.5"
  }
 },
 "nbformat": 4,
 "nbformat_minor": 4
}
