{
 "cells": [
  {
   "cell_type": "code",
   "execution_count": 48,
   "metadata": {},
   "outputs": [],
   "source": [
    "\n",
    "import Augmentor"
   ]
  },
  {
   "cell_type": "code",
   "execution_count": 49,
   "metadata": {},
   "outputs": [],
   "source": [
    "path_train='dataset/demowater/train/'\n",
    "mask_train='dataset/demowater/mask/'"
   ]
  },
  {
   "cell_type": "code",
   "execution_count": 51,
   "metadata": {},
   "outputs": [
    {
     "name": "stderr",
     "output_type": "stream",
     "text": [
      "                                                      "
     ]
    },
    {
     "name": "stdout",
     "output_type": "stream",
     "text": [
      "Initialised with 3 image(s) found.\n",
      "Output directory set to dataset/demowater/train/output.3 ground truth image(s) found.\n"
     ]
    },
    {
     "name": "stderr",
     "output_type": "stream",
     "text": [
      "\r"
     ]
    }
   ],
   "source": [
    "p = Augmentor.Pipeline(path_train)\n",
    "# Point to a directory containing ground truth data.\n",
    "# Images with the same file names will be added as ground truth data\n",
    "# and augmented in parallel to the original data.\n",
    "p.ground_truth(mask_train)\n",
    "# Add operations to the pipeline as normal:\n",
    "p.rotate(probability=0.7, max_left_rotation=5, max_right_rotation=5)\n",
    "p.flip_left_right(probability=0.7)\n",
    "p.zoom_random(probability=0.7, percentage_area=0.3)\n",
    "# p.random_color(probability=0.5,min_factor=0,max_factor=0.2)\n",
    "# p.random_brightness(probability=0.5, min_factor=0,max_factor=0.2)\n",
    "# p.invert(probability=0.5)\n",
    "\n",
    "# p.flip_top_bottom(probability=0.5)\n",
    "# p.sample(15)"
   ]
  },
  {
   "cell_type": "code",
   "execution_count": 52,
   "metadata": {},
   "outputs": [
    {
     "name": "stderr",
     "output_type": "stream",
     "text": [
      "Processing <PIL.Image.Image image mode=RGB size=475x335 at 0x7FA0D677C690>: 100%|██████████| 50/50 [00:00<00:00, 66.74 Samples/s] \n"
     ]
    }
   ],
   "source": [
    "p.sample(50)"
   ]
  },
  {
   "cell_type": "code",
   "execution_count": null,
   "metadata": {},
   "outputs": [],
   "source": []
  }
 ],
 "metadata": {
  "kernelspec": {
   "display_name": "Python 3",
   "language": "python",
   "name": "python3"
  },
  "language_info": {
   "codemirror_mode": {
    "name": "ipython",
    "version": 3
   },
   "file_extension": ".py",
   "mimetype": "text/x-python",
   "name": "python",
   "nbconvert_exporter": "python",
   "pygments_lexer": "ipython3",
   "version": "3.7.5"
  }
 },
 "nbformat": 4,
 "nbformat_minor": 4
}
